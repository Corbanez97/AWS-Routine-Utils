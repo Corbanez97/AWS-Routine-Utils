{
 "cells": [
  {
   "cell_type": "markdown",
   "id": "aa0c231e-3ca1-4457-b17b-83582837c6a2",
   "metadata": {},
   "source": [
    "# [Supernovae Data by Astrocatalogs](https://github.com/astrocatalogs/sne-2015-2019)"
   ]
  },
  {
   "cell_type": "markdown",
   "id": "6a871eb9-89de-4e91-a8d4-0b327f59fee4",
   "metadata": {},
   "source": [
    "## Data Description and Preliminary Analysis"
   ]
  },
  {
   "cell_type": "markdown",
   "id": "29721fd5-a036-4d5f-8cac-95a1a0950bc9",
   "metadata": {},
   "source": [
    "The data with which we are going to populate our Data Lake is with the **Open Supernovae Catalog (OSC)**. We will use a collection of all discovered supernovae from 2015 to 2019. This repository contains a variety of information about its discovery and physical attributes. For a deeper understanding, see its **[Schema's information](https://github.com/astrocatalogs/schema)**. The data is stored in .JSON files and each file refers to a different supernovae.\n",
    "\n",
    "First thing first, let us clone the repository inside our data folder. From the main directory, go to data and git clone the following repository there: https://github.com/astrocatalogs/sne-2015-2019.git.\n",
    "\n",
    "This should create a folder filled with .JSON files called **sne-2015-2019**. Be carefull when managing these files inside Jupyter Lab, this folder is a **CHONK BOY**! **ʕ•ᴥ•ʔ**"
   ]
  },
  {
   "cell_type": "markdown",
   "id": "7b787330-9432-4aa7-99ad-5e8d9e352910",
   "metadata": {},
   "source": [
    "Now, we will import a single supernovae data to see what we are working with."
   ]
  },
  {
   "cell_type": "code",
   "execution_count": 3,
   "id": "b55badf2-4891-4af9-ad9f-d82592dbdb07",
   "metadata": {},
   "outputs": [],
   "source": [
    "import pandas as pd\n",
    "import json"
   ]
  },
  {
   "cell_type": "code",
   "execution_count": 17,
   "id": "9f484bb1-75a2-41b8-b297-4f9fbcae7788",
   "metadata": {},
   "outputs": [
    {
     "name": "stdout",
     "output_type": "stream",
     "text": [
      "dict_keys(['schema', 'name', 'sources', 'alias', 'claimedtype', 'comovingdist', 'dec', 'discoverdate', 'discoverer', 'ebv', 'host', 'hostdec', 'hostoffsetang', 'hostoffsetdist', 'hostra', 'lumdist', 'maxabsmag', 'maxappmag', 'maxdate', 'maxvisualabsmag', 'maxvisualappmag', 'maxvisualdate', 'ra', 'redshift', 'velocity', 'photometry'])\n"
     ]
    }
   ],
   "source": [
    "f = r'../data/sne-2015-2019/ASASSN-15ab.json'\n",
    "\n",
    "with open(f, 'r') as j:\n",
    "    contents = json.loads(j.read())\n",
    "    print(contents['ASASSN-15ab'].keys())"
   ]
  },
  {
   "cell_type": "code",
   "execution_count": null,
   "id": "d6e5feac-c8a5-408c-8488-a12a51a80450",
   "metadata": {},
   "outputs": [],
   "source": []
  }
 ],
 "metadata": {
  "kernelspec": {
   "display_name": "Python 3 (ipykernel)",
   "language": "python",
   "name": "python3"
  },
  "language_info": {
   "codemirror_mode": {
    "name": "ipython",
    "version": 3
   },
   "file_extension": ".py",
   "mimetype": "text/x-python",
   "name": "python",
   "nbconvert_exporter": "python",
   "pygments_lexer": "ipython3",
   "version": "3.8.10"
  }
 },
 "nbformat": 4,
 "nbformat_minor": 5
}
