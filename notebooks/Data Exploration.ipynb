{
 "cells": [
  {
   "cell_type": "markdown",
   "id": "aa0c231e-3ca1-4457-b17b-83582837c6a2",
   "metadata": {},
   "source": [
    "# [Supernovae Data by Astrocatalogs](https://github.com/astrocatalogs/sne-2015-2019)"
   ]
  },
  {
   "cell_type": "markdown",
   "id": "6a871eb9-89de-4e91-a8d4-0b327f59fee4",
   "metadata": {},
   "source": [
    "## Data Description and Exploratory Data Analysis"
   ]
  },
  {
   "cell_type": "markdown",
   "id": "29721fd5-a036-4d5f-8cac-95a1a0950bc9",
   "metadata": {},
   "source": [
    "The data with which we are going to populate our Data Lake is with the **Open Supernovae Catalog (OSC)**. We will use a collection of all discovered supernovae from 2015 to 2019. This repository contains a variety of information about its discovery and physical attributes. For a deeper understanding, see its **[Schema's information](https://github.com/astrocatalogs/schema)**. The data is stored in .JSON files and each file refers to a different supernovae.\n",
    "\n",
    "First thing first, let us clone the repository inside our data folder. From the main directory, go to data and git clone the following repository there: https://github.com/astrocatalogs/sne-2015-2019.git.\n",
    "\n",
    "This should create a folder filled with .JSON files called **sne-2015-2019**. Be carefull when managing these files inside Jupyter Lab, this folder is a **CHONK BOY**! **ʕ•ᴥ•ʔ**"
   ]
  },
  {
   "cell_type": "markdown",
   "id": "7b787330-9432-4aa7-99ad-5e8d9e352910",
   "metadata": {},
   "source": [
    "Now, we will import a single supernovae data to see what we are working with."
   ]
  },
  {
   "cell_type": "code",
   "execution_count": 2,
   "id": "b55badf2-4891-4af9-ad9f-d82592dbdb07",
   "metadata": {},
   "outputs": [],
   "source": [
    "import pandas as pd\n",
    "import json"
   ]
  },
  {
   "cell_type": "code",
   "execution_count": 8,
   "id": "9f484bb1-75a2-41b8-b297-4f9fbcae7788",
   "metadata": {},
   "outputs": [],
   "source": [
    "f = r'../data/sne-2015-2019/ASASSN-15ab.json'\n",
    "\n",
    "with open(f, 'r') as j:\n",
    "    contents = json.loads(j.read())"
   ]
  },
  {
   "cell_type": "markdown",
   "id": "bd94cf35-f7e1-430a-92bd-a2b345e602d6",
   "metadata": {},
   "source": [
    "The first key is only the supernovae's name. This could be handfull in case we want to merge every .JSON file into only one gigantic .JSON."
   ]
  },
  {
   "cell_type": "code",
   "execution_count": 31,
   "id": "6549141a-6840-43d4-8fa5-aaa0204a6ab5",
   "metadata": {},
   "outputs": [
    {
     "name": "stdout",
     "output_type": "stream",
     "text": [
      "dict_keys(['ASASSN-15ab'])\n"
     ]
    }
   ],
   "source": [
    "print(contents.keys())"
   ]
  },
  {
   "cell_type": "markdown",
   "id": "ae91352b-b992-49fd-8c5d-1a0b5ab91910",
   "metadata": {},
   "source": [
    "Once we open the first key, we begin to see every possible information collected from these supernovae. This is where we start to imagine what data structure will correctly fit our needs. Here we stumble on a couple of problems. Firstly, these measurement can have multiple values from differents observations. For instance, the **dec** key has two possible values from distinct sources. Secondly, by looking at our [Schema](https://github.com/astrocatalogs/schema) we see multiple attributes that are not present in the supernovae we are analysing. This could be a barrier when recursively creating a **DataFrame**."
   ]
  },
  {
   "cell_type": "code",
   "execution_count": 9,
   "id": "d6e5feac-c8a5-408c-8488-a12a51a80450",
   "metadata": {},
   "outputs": [
    {
     "name": "stdout",
     "output_type": "stream",
     "text": [
      "dict_keys(['schema', 'name', 'sources', 'alias', 'claimedtype', 'comovingdist', 'dec', 'discoverdate', 'discoverer', 'ebv', 'host', 'hostdec', 'hostoffsetang', 'hostoffsetdist', 'hostra', 'lumdist', 'maxabsmag', 'maxappmag', 'maxdate', 'maxvisualabsmag', 'maxvisualappmag', 'maxvisualdate', 'ra', 'redshift', 'velocity', 'photometry'])\n"
     ]
    }
   ],
   "source": [
    "print(contents['ASASSN-15ab'].keys())"
   ]
  },
  {
   "cell_type": "code",
   "execution_count": 33,
   "id": "af92b88f-1df5-4dbb-9833-501cd98cf11b",
   "metadata": {},
   "outputs": [
    {
     "name": "stdout",
     "output_type": "stream",
     "text": [
      "schema : https://github.com/astrocatalogs/supernovae/blob/d3ef5fc/SCHEMA.md\n",
      "\n",
      "\n",
      "name : ASASSN-15ab\n",
      "\n",
      "\n",
      "sources : [{'name': '2016A&A...594A..13P', 'bibcode': '2016A&A...594A..13P', 'reference': 'Planck Collaboration et al. (2016)', 'alias': '1'}, {'name': '2015ATel.6864....1D', 'bibcode': '2015ATel.6864....1D', 'reference': 'Dong et al. (2015)', 'alias': '2'}, {'name': '2015ATel.6882....1S', 'bibcode': '2015ATel.6882....1S', 'reference': 'Shappee et al. (2015)', 'alias': '3'}, {'name': '2011ApJ...737..103S', 'bibcode': '2011ApJ...737..103S', 'reference': 'Schlafly & Finkbeiner (2011)', 'alias': '4'}, {'name': 'ASAS-SN Supernovae', 'url': 'http://www.astronomy.ohio-state.edu/~assassin/sn_list.html', 'alias': '5'}, {'name': 'Latest Supernovae', 'secondary': True, 'url': 'http://www.rochesterastronomy.org/snimages/snredshiftall.html', 'alias': '6'}, {'name': 'The Open Supernova Catalog', 'bibcode': '2017ApJ...835...64G', 'reference': 'Guillochon et al. (2017)', 'secondary': True, 'url': 'https://sne.space', 'alias': '7'}, {'name': 'SIMBAD astronomical database', 'bibcode': '2000A&AS..143....9W', 'reference': 'Wenger et al. (2000)', 'secondary': True, 'url': 'http://simbad.u-strasbg.fr/', 'alias': '8'}]\n",
      "\n",
      "\n",
      "alias : [{'value': 'ASASSN-15ab', 'source': '2,5,6,8'}]\n",
      "\n",
      "\n",
      "claimedtype : [{'value': 'IIn', 'source': '2,3,5,6,8'}]\n",
      "\n",
      "\n",
      "comovingdist : [{'value': '78.5', 'derived': True, 'u_value': 'Mpc', 'source': '1,2,5,6,7'}]\n",
      "\n",
      "\n",
      "dec : [{'value': '-38:28:29.9', 'u_value': 'degrees', 'source': '2,6,8'}, {'value': '-38:28:31.08', 'u_value': 'degrees', 'source': '2,5'}]\n",
      "\n",
      "\n",
      "discoverdate : [{'value': '2015/01/02', 'source': '2,6'}]\n",
      "\n",
      "\n",
      "discoverer : [{'value': 'ASAS-SN', 'source': '2,6'}]\n",
      "\n",
      "\n",
      "ebv : [{'value': '0.0911', 'derived': True, 'e_value': '0.0033', 'source': '4,7'}]\n",
      "\n",
      "\n",
      "host : [{'value': 'ESO 325-G45', 'source': '2,6'}, {'value': '6dF J1403085-382831', 'source': '2,5'}]\n",
      "\n",
      "\n",
      "hostdec : [{'value': '-38:28:31', 'derived': True, 'u_value': 'degrees', 'source': '7'}]\n",
      "\n",
      "\n",
      "hostoffsetang : [{'value': '25.86', 'u_value': 'arcseconds', 'source': '2,5'}]\n",
      "\n",
      "\n",
      "hostoffsetdist : [{'value': '9.67', 'source': '1,2,5,6,7,8'}]\n",
      "\n",
      "\n",
      "hostra : [{'value': '14:03:08.5', 'derived': True, 'u_value': 'hours', 'source': '7'}]\n",
      "\n",
      "\n",
      "lumdist : [{'value': '79.85', 'derived': True, 'u_value': 'Mpc', 'source': '1,2,5,6,7'}]\n",
      "\n",
      "\n",
      "maxabsmag : [{'value': '-19.09', 'derived': True, 'source': '1,2,5,6,7'}]\n",
      "\n",
      "\n",
      "maxappmag : [{'value': '15.4', 'derived': True, 'source': '2,6,7'}]\n",
      "\n",
      "\n",
      "maxdate : [{'value': '2015/01/06', 'derived': True, 'source': '2,6,7'}]\n",
      "\n",
      "\n",
      "maxvisualabsmag : [{'value': '-19.11', 'derived': True, 'source': '1,2,5,6,7'}]\n",
      "\n",
      "\n",
      "maxvisualappmag : [{'value': '15.4', 'derived': True, 'source': '2,6,7'}]\n",
      "\n",
      "\n",
      "maxvisualdate : [{'value': '2015/01/06', 'derived': True, 'source': '2,6,7'}]\n",
      "\n",
      "\n",
      "ra : [{'value': '14:03:06.24', 'u_value': 'hours', 'source': '2,5,6,8'}]\n",
      "\n",
      "\n",
      "redshift : [{'value': '0.0178', 'source': '2,5,6'}]\n",
      "\n",
      "\n",
      "velocity : [{'value': '5290', 'u_value': 'km/s', 'source': '7'}]\n",
      "\n",
      "\n",
      "photometry : [{'time': '57028.5', 'magnitude': '15.4', 'u_time': 'MJD', 'source': '2,6'}]\n",
      "\n",
      "\n"
     ]
    }
   ],
   "source": [
    "for key in contents['ASASSN-15ab']:\n",
    "    value = contents['ASASSN-15ab'][key]\n",
    "    # if isinstance(value, list):\n",
    "    #      value = value[0]\n",
    "    # else:\n",
    "    #      value = value\n",
    "    print(f'{key} : {value}\\n\\n')"
   ]
  },
  {
   "cell_type": "markdown",
   "id": "d350ebf7-633a-4bff-bdf1-7df3ceaea8ea",
   "metadata": {},
   "source": [
    "By looking at the data from multiple supernovae, we've figured that the best way to build a database is to slip our data into a relational and a non-relational set. For instance, the following fields are well behaved and could be structured as a relational database.\n",
    "\n",
    "```\n",
    "alias, claimedtype, comovingdist, dec, discoverdate, discoverer, ebv, host, hostdec, hostoffsetang, hostoffsetdist, hostra, lumdist, maxabsmag, maxappmag, maxdate, maxvisualabsmag, maxvisualappmag, maxvisualdate, ra, redshift, velocity\n",
    "```\n",
    "\n",
    "Even if some of them have two distinct values - e.g., ```dec``` and ```ra``` - we will pick the first one for simplicity.\n",
    "\n",
    "On the contrary, fields such as ```photometry, spectra, X-ray,``` and  ```radio``` are multidimensional with a single key (supernovae's name). Therefore, they are candidates to their own non-relational sub database, where they are indexed with the supernovae's name. We are going to use **AWS Redshift** to create the relational database, and **MongoDB** for the .JSON based database."
   ]
  },
  {
   "cell_type": "code",
   "execution_count": null,
   "id": "925be8a3-281f-47d9-a4ad-7c96684ace33",
   "metadata": {},
   "outputs": [],
   "source": []
  }
 ],
 "metadata": {
  "kernelspec": {
   "display_name": "Python 3 (ipykernel)",
   "language": "python",
   "name": "python3"
  },
  "language_info": {
   "codemirror_mode": {
    "name": "ipython",
    "version": 3
   },
   "file_extension": ".py",
   "mimetype": "text/x-python",
   "name": "python",
   "nbconvert_exporter": "python",
   "pygments_lexer": "ipython3",
   "version": "3.8.10"
  }
 },
 "nbformat": 4,
 "nbformat_minor": 5
}
