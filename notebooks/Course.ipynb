{
 "cells": [
  {
   "cell_type": "markdown",
   "id": "b2b21ae2-51bf-475c-910f-39df8318dfaa",
   "metadata": {},
   "source": [
    "# [Data Engineering using Amazon Web Services](https://www.udemy.com/course/data-engineering-using-aws-analytics-services/)"
   ]
  },
  {
   "cell_type": "markdown",
   "id": "9d304d24-98ff-49fc-b92c-eb094a1fb9c6",
   "metadata": {},
   "source": [
    "## Introduction"
   ]
  },
  {
   "cell_type": "markdown",
   "id": "e58f802e-6b84-4194-b973-edab82749a2b",
   "metadata": {},
   "source": [
    "## [Docker](https://www.docker.com/resources/what-container/)"
   ]
  },
  {
   "cell_type": "markdown",
   "id": "8b71cc90-93a7-43a0-944b-bfbe5204464c",
   "metadata": {},
   "source": [
    "A container is a standard unit of software that packages up code and all its dependencies so the application runs quickly and reliably from one computing environment to another. A Docker container image is a lightweight, standalone, executable package of software that includes everything needed to run an application: code, runtime, system tools, system libraries and settings.\n",
    "\n",
    "<div style=\"text-align:center\"><img src=\"images/docker.png\" /></div>\n",
    "\n",
    "Container images become containers at runtime and in the case of Docker containers – images become containers when they run on Docker Engine. Available for both Linux and Windows-based applications, containerized software will always run the same, regardless of the infrastructure. Containers isolate software from its environment and ensure that it works uniformly despite differences for instance between development and staging."
   ]
  },
  {
   "cell_type": "markdown",
   "id": "31269106-879a-4c5a-ae3a-f5973a69b0b0",
   "metadata": {},
   "source": [
    "## Example"
   ]
  },
  {
   "cell_type": "markdown",
   "id": "6efaff38-9dc0-4ea8-9781-03e088a696bf",
   "metadata": {},
   "source": [
    "First, make sure **Docker** is installed in your system using ***sudo apt-get install docker***, and you are logged in to your account with ***docker login***. To make sure everything is working fine, execute the ***docker run hello-world*** command.\n",
    "\n",
    "As an example, we've created a simple [Dockerfile](https://u.group/thinking/how-to-put-jupyter-notebooks-in-a-dockerfile/) on which we declare a sequence of operations to be followed. These operations will be executed once one builds the container in their machine. In this example, we will update **apt**, **python3**, and **pip**. Furthermore, **pip** will install all packages described in the **requirements.txt**, and execute **module.py**, which cleans the file **raw_data.csv**. The final step is to open this notebook file and make available every data from **clean_data.csv** as a **DataFrame**. \n",
    "\n",
    "<div style=\"text-align:center\"><img src=\"images/dockerfile.png\" /></div>\n",
    "\n",
    "With the **Dockerfile** in place, run the build command, ***docker build -t username/project .***, which will create the image described on the **Dockerfile** in the local environment. One can push this new container to origin with ***docker push username/project*** to share with other developers or ***pull*** to another machine. Once the build succeeds, one can run the build with \n",
    "***docker run -p 8888:8888 username/project***."
   ]
  },
  {
   "cell_type": "markdown",
   "id": "c3b9f3ea-1ca5-4faf-8ea2-900eebe53fa0",
   "metadata": {},
   "source": [
    "The following kernell should only work if executed inside the container, since the file **clean_data.csv** will only be created once the image is build."
   ]
  },
  {
   "cell_type": "code",
   "execution_count": 8,
   "id": "7c339caa-194a-4e2b-9e61-a9d96b99e79a",
   "metadata": {},
   "outputs": [
    {
     "name": "stdout",
     "output_type": "stream",
     "text": [
      "You are not running this notebook inside the container, or the build was not a success.\n"
     ]
    },
    {
     "data": {
      "text/html": [
       "<div>\n",
       "<style scoped>\n",
       "    .dataframe tbody tr th:only-of-type {\n",
       "        vertical-align: middle;\n",
       "    }\n",
       "\n",
       "    .dataframe tbody tr th {\n",
       "        vertical-align: top;\n",
       "    }\n",
       "\n",
       "    .dataframe thead th {\n",
       "        text-align: right;\n",
       "    }\n",
       "</style>\n",
       "<table border=\"1\" class=\"dataframe\">\n",
       "  <thead>\n",
       "    <tr style=\"text-align: right;\">\n",
       "      <th></th>\n",
       "      <th>name</th>\n",
       "      <th>age</th>\n",
       "      <th>job</th>\n",
       "    </tr>\n",
       "  </thead>\n",
       "  <tbody>\n",
       "    <tr>\n",
       "      <th>0</th>\n",
       "      <td>Lucas</td>\n",
       "      <td>24</td>\n",
       "      <td>Professor</td>\n",
       "    </tr>\n",
       "    <tr>\n",
       "      <th>1</th>\n",
       "      <td>Pedro</td>\n",
       "      <td>28</td>\n",
       "      <td>Empresario</td>\n",
       "    </tr>\n",
       "    <tr>\n",
       "      <th>2</th>\n",
       "      <td>Miguel</td>\n",
       "      <td>21</td>\n",
       "      <td>Advogado</td>\n",
       "    </tr>\n",
       "  </tbody>\n",
       "</table>\n",
       "</div>"
      ],
      "text/plain": [
       "     name  age         job\n",
       "0   Lucas   24   Professor\n",
       "1   Pedro   28  Empresario\n",
       "2  Miguel   21    Advogado"
      ]
     },
     "execution_count": 8,
     "metadata": {},
     "output_type": "execute_result"
    }
   ],
   "source": [
    "import pandas as pd\n",
    "\n",
    "try:\n",
    "    df = pd.read_csv('../data/clean_data.csv')\n",
    "    print('The build was a success, and the file is available')\n",
    "except:\n",
    "    print('You are not running this notebook inside the container, or the build was not a success.')\n",
    "\n",
    "df"
   ]
  },
  {
   "cell_type": "markdown",
   "id": "45b99414-a744-47ce-98f9-957736278a2f",
   "metadata": {},
   "source": [
    "## AWS IAM"
   ]
  },
  {
   "cell_type": "code",
   "execution_count": null,
   "id": "063862b8-5998-4533-97d6-f0345bccf9cb",
   "metadata": {},
   "outputs": [],
   "source": []
  }
 ],
 "metadata": {
  "kernelspec": {
   "display_name": "Python 3 (ipykernel)",
   "language": "python",
   "name": "python3"
  },
  "language_info": {
   "codemirror_mode": {
    "name": "ipython",
    "version": 3
   },
   "file_extension": ".py",
   "mimetype": "text/x-python",
   "name": "python",
   "nbconvert_exporter": "python",
   "pygments_lexer": "ipython3",
   "version": "3.8.10"
  }
 },
 "nbformat": 4,
 "nbformat_minor": 5
}
